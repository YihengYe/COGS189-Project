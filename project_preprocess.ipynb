{
 "cells": [
  {
   "cell_type": "code",
   "execution_count": 1,
   "id": "e9c60a93",
   "metadata": {},
   "outputs": [],
   "source": [
    "import pandas as pd"
   ]
  },
  {
   "cell_type": "code",
   "execution_count": 2,
   "id": "74e22c65",
   "metadata": {},
   "outputs": [],
   "source": [
    "train_label=pd.read_csv('TrainLabels.csv')\n",
    "train_label=train_label['Prediction']\n",
    "test_label=pd.read_csv('true_labels.csv')\n",
    "test_label=test_label['1']"
   ]
  },
  {
   "cell_type": "code",
   "execution_count": 3,
   "id": "5207b89f",
   "metadata": {},
   "outputs": [],
   "source": [
    "from os import listdir"
   ]
  },
  {
   "cell_type": "code",
   "execution_count": 7,
   "id": "d78609b9",
   "metadata": {},
   "outputs": [],
   "source": [
    "#use best channel from bench mark to sort our train data set\n",
    "counter=0\n",
    "raw_train='raw_data/train/'\n",
    "train_path='train/'\n",
    "best_channel='CP2'\n",
    "for i in listdir(raw_train):\n",
    "    path=raw_train+i\n",
    "    df=pd.read_csv(path)\n",
    "    best_c=df[best_channel]\n",
    "    file_name='Train'+str(counter)+'.csv'\n",
    "    if int(train_label[counter])==0:\n",
    "        temp_path=train_path+'0/'+file_name\n",
    "        best_c.to_csv(temp_path, index=False)\n",
    "    else:\n",
    "        temp_path=train_path+'1/'+file_name\n",
    "        best_c.to_csv(temp_path, index=False)\n",
    "    counter +=1\n",
    "        \n",
    "   "
   ]
  },
  {
   "cell_type": "code",
   "execution_count": 9,
   "id": "0a508f7c",
   "metadata": {},
   "outputs": [],
   "source": [
    "#use best channel from bench mark to sort our test data set, you can save it to one directory if you do not need class folder for deep\n",
    "#learning.\n",
    "counter=0\n",
    "raw_test='raw_data/test/'\n",
    "test_path='test/'\n",
    "best_channel='CP2'\n",
    "for i in listdir(raw_test):\n",
    "    path=raw_test+i\n",
    "    df=pd.read_csv(path)\n",
    "    best_c=df[best_channel]\n",
    "    file_name='Test'+str(counter)+'.csv'\n",
    "    if int(test_label[counter])==0:\n",
    "        temp_path=test_path+'0/'+file_name\n",
    "        best_c.to_csv(temp_path, index=False)\n",
    "    else:\n",
    "        temp_path=test_path+'1/'+file_name\n",
    "        best_c.to_csv(temp_path, index=False)\n",
    "    counter +=1"
   ]
  },
  {
   "cell_type": "code",
   "execution_count": null,
   "id": "db173d91",
   "metadata": {},
   "outputs": [],
   "source": []
  }
 ],
 "metadata": {
  "kernelspec": {
   "display_name": "Python 3 (ipykernel)",
   "language": "python",
   "name": "python3"
  },
  "language_info": {
   "codemirror_mode": {
    "name": "ipython",
    "version": 3
   },
   "file_extension": ".py",
   "mimetype": "text/x-python",
   "name": "python",
   "nbconvert_exporter": "python",
   "pygments_lexer": "ipython3",
   "version": "3.10.0"
  }
 },
 "nbformat": 4,
 "nbformat_minor": 5
}
