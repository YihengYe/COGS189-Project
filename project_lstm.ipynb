{
 "cells": [
  {
   "cell_type": "code",
   "execution_count": 1,
   "id": "6bbb5dcc",
   "metadata": {},
   "outputs": [
    {
     "name": "stderr",
     "output_type": "stream",
     "text": [
      "C:\\Users\\39296\\AppData\\Local\\Programs\\Python\\Python310\\lib\\site-packages\\tqdm\\auto.py:22: TqdmWarning: IProgress not found. Please update jupyter and ipywidgets. See https://ipywidgets.readthedocs.io/en/stable/user_install.html\n",
      "  from .autonotebook import tqdm as notebook_tqdm\n"
     ]
    }
   ],
   "source": [
    "import numpy as np\n",
    "from sklearn.metrics import roc_auc_score, precision_score, recall_score, accuracy_score\n",
    "import torch\n",
    "import torch.nn as nn\n",
    "import torch.optim as optim\n",
    "from torch.autograd import Variable\n",
    "import torch.nn.functional as F\n",
    "import torch.optim as optim\n",
    "from torch.utils.data import Dataset, DataLoader\n",
    "from torchvision import datasets\n",
    "import pandas as pd"
   ]
  },
  {
   "cell_type": "code",
   "execution_count": 42,
   "id": "b65ccbc2",
   "metadata": {},
   "outputs": [],
   "source": [
    "def custom_loader(inp):\n",
    "    data=pd.read_csv(inp)\n",
    "    x=data['CP2']\n",
    "    x=torch.from_numpy(x.values).float()\n",
    "    return x \n",
    "\n",
    "data_sets=datasets.DatasetFolder('train/', loader=custom_loader, extensions=['.csv'])\n",
    "ds2=datasets.DatasetFolder('test/', loader=custom_loader, extensions=['.csv'])\n",
    "train_loader=torch.utils.data.DataLoader(data_sets,\n",
    "                                          batch_size=32,\n",
    "                                          shuffle=False,\n",
    "                                          )\n",
    "test_loader=torch.utils.data.DataLoader(ds2,\n",
    "                                          batch_size=32,\n",
    "                                          shuffle=False,\n",
    "                                          )"
   ]
  },
  {
   "cell_type": "code",
   "execution_count": 45,
   "id": "7e1e1d96",
   "metadata": {},
   "outputs": [],
   "source": [
    "# Very simple lstm model which is modified from https://www.kaggle.com/code/purplejester/a-simple-lstm-based-time-series-classifier\n",
    "class LSTMClassifier(nn.Module):\n",
    "    \n",
    "    def __init__(self, input_dim, hidden_dim, layer_dim, output_dim):\n",
    "        super().__init__()\n",
    "        self.hidden_dim=hidden_dim\n",
    "        self.layer_dim=layer_dim\n",
    "        self.rnn=nn.LSTM(input_dim, hidden_dim, layer_dim, batch_first=True)\n",
    "        self.fc=nn.Linear(hidden_dim, output_dim)\n",
    "        self.batch_size=None\n",
    "        self.hidden=None\n",
    "    \n",
    "    def forward(self, x):\n",
    "        out, (hn, cn)=self.rnn(x)\n",
    "        out=self.fc(out)\n",
    "        return out\n",
    "    \n",
    "  "
   ]
  },
  {
   "cell_type": "code",
   "execution_count": 51,
   "id": "9c2e63a4",
   "metadata": {},
   "outputs": [
    {
     "name": "stdout",
     "output_type": "stream",
     "text": [
      "Epoch 1 best model saved with accuracy: 86.00%\n",
      "Epoch:   5. Loss: 0.1081. Acc.: 84.00%\n",
      "Epoch:  10. Loss: 0.1747. Acc.: 92.00%\n",
      "Epoch 10 best model saved with accuracy: 92.00%\n"
     ]
    }
   ],
   "source": [
    "#Standard Training process, modified from from https://www.kaggle.com/code/purplejester/a-simple-lstm-based-time-series-classifier.\n",
    "# I changed the optimizer and tuning hyper parameters to avoid overfitting.\n",
    "np.random.seed(42) # so the model can be reproduced\n",
    "input_dim=120000   \n",
    "hidden_dim=256\n",
    "layer_dim=3\n",
    "output_dim=2\n",
    "weight_decay=0.0025\n",
    "\n",
    "lr=0.05\n",
    "n_epochs=10\n",
    "iterations_per_epoch=len(train_loader)\n",
    "best_acc=0\n",
    "patience, trials=100, 0\n",
    "test_accuracies=[]\n",
    "losses=[]\n",
    "\n",
    "model=LSTMClassifier(input_dim, hidden_dim, layer_dim, output_dim)\n",
    "model=model.cuda()\n",
    "criterion=nn.CrossEntropyLoss()\n",
    "opt=torch.optim.Adam(model.parameters(), lr=lr, weight_decay=weight_decay)\n",
    "for epoch in range(1, n_epochs + 1):\n",
    "    \n",
    "    for i, (x_batch, y_batch) in enumerate(train_loader):\n",
    "        model.train()\n",
    "        x_batch=x_batch.cuda()\n",
    "        y_batch=y_batch.cuda()\n",
    "        opt.zero_grad()\n",
    "        out=model(x_batch)\n",
    "        loss=criterion(out, y_batch)\n",
    "        loss.backward()\n",
    "        opt.step()\n",
    "    losses.append(loss.item())\n",
    "    model.eval()\n",
    "    correct, total=0, 0\n",
    "    for x_val, y_val in test_loader:\n",
    "        x_val, y_val=[t.cuda() for t in (x_val, y_val)]\n",
    "        out=model(x_val)\n",
    "        preds=F.log_softmax(out, dim=1).argmax(dim=1)\n",
    "        total +=y_val.size(0)\n",
    "        correct +=(preds == y_val).sum().item()\n",
    "    acc=correct / total\n",
    "    test_accuracies.append(acc)\n",
    "\n",
    "    if epoch % 5==0:\n",
    "        print(f'Epoch: {epoch:3d}. Loss: {loss.item():.4f}. Acc.: {acc:2.2%}')\n",
    "\n",
    "    if acc>best_acc:\n",
    "        trials=0\n",
    "        best_acc=acc\n",
    "        torch.save(model.state_dict(), 'best.pth')\n",
    "        print(f'Epoch {epoch} best model saved with accuracy: {best_acc:2.2%}')\n",
    "    else:\n",
    "        trials+=1\n",
    "        if trials>=patience:\n",
    "            print(f'Early stopping on epoch {epoch}')\n",
    "            break"
   ]
  },
  {
   "cell_type": "code",
   "execution_count": 55,
   "id": "c8563e47",
   "metadata": {},
   "outputs": [
    {
     "data": {
      "image/png": "[encoded data removed]",
      "text/plain": [
       "<Figure size 432x288 with 1 Axes>"
      ]
     },
     "metadata": {
      "needs_background": "light"
     },
     "output_type": "display_data"
    }
   ],
   "source": [
    "import matplotlib.pyplot as plt\n",
    "plt.plot(list(range(1,11)), losses)\n",
    "plt.xlabel(\"Epoch\")\n",
    "plt.ylabel(\"training loss\")\n",
    "plt.title(\"Training Loss Curve\")\n",
    "plt.savefig(\"LSTMTraining.png\")"
   ]
  },
  {
   "cell_type": "code",
   "execution_count": 56,
   "id": "de30c9b7",
   "metadata": {},
   "outputs": [
    {
     "data": {
      "image/png": "[encoded data removed]",
      "text/plain": [
       "<Figure size 432x288 with 1 Axes>"
      ]
     },
     "metadata": {
      "needs_background": "light"
     },
     "output_type": "display_data"
    }
   ],
   "source": [
    "plt.plot(list(range(1,11)), test_accuracies)\n",
    "plt.xlabel(\"Epoch\")\n",
    "plt.ylabel(\"Validation accuracy\")\n",
    "plt.title(\"Validation Accuracy (Using Test Data Set) Curve\")\n",
    "plt.savefig(\"LSTMValidation.png\")"
   ]
  },
  {
   "cell_type": "code",
   "execution_count": 47,
   "id": "a18cf854",
   "metadata": {},
   "outputs": [],
   "source": [
    "torch.cuda.empty_cache() "
   ]
  },
  {
   "cell_type": "code",
   "execution_count": null,
   "id": "41b70523",
   "metadata": {},
   "outputs": [],
   "source": []
  }
 ],
 "metadata": {
  "kernelspec": {
   "display_name": "Python 3 (ipykernel)",
   "language": "python",
   "name": "python3"
  },
  "language_info": {
   "codemirror_mode": {
    "name": "ipython",
    "version": 3
   },
   "file_extension": ".py",
   "mimetype": "text/x-python",
   "name": "python",
   "nbconvert_exporter": "python",
   "pygments_lexer": "ipython3",
   "version": "3.10.0"
  }
 },
 "nbformat": 4,
 "nbformat_minor": 5
}
